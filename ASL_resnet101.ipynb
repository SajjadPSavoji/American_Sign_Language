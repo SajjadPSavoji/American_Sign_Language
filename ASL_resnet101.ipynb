{
  "nbformat": 4,
  "nbformat_minor": 0,
  "metadata": {
    "colab": {
      "name": "ASL_resnet101.ipynb",
      "provenance": [],
      "collapsed_sections": []
    },
    "kernelspec": {
      "name": "python3",
      "display_name": "Python 3"
    },
    "accelerator": "GPU"
  },
  "cells": [
    {
      "cell_type": "code",
      "metadata": {
        "id": "VI4XIo8fCRcR",
        "colab_type": "code",
        "outputId": "747c1ab4-c6d4-4794-bb24-abdb7aeeba72",
        "colab": {
          "base_uri": "https://localhost:8080/",
          "height": 122
        }
      },
      "source": [
        "import os\n",
        "import sys\n",
        "import random\n",
        "import numpy as np\n",
        "import matplotlib.pyplot as plt\n",
        "from PIL import Image\n",
        "\n",
        "import torch\n",
        "import torch.nn as nn\n",
        "import torch.optim as optim\n",
        "import torch.nn.functional as F\n",
        "from torch.autograd import Variable\n",
        "\n",
        "import torchvision\n",
        "import torchvision.utils\n",
        "import torchvision.models as models\n",
        "import torchvision.datasets as datasets\n",
        "import torchvision.transforms as transforms\n",
        "from torch.utils.data import DataLoader, Dataset\n",
        "\n",
        "import torch\n",
        "import torch.nn as nn\n",
        "import torch.optim as optim\n",
        "import torch.nn.functional as F\n",
        "from torch.autograd import Variable\n",
        "\n",
        "# from data_utils import create_validation_data\n",
        "\n",
        "use_gpu = torch.cuda.is_available()\n",
        "\n",
        "from google.colab import drive\n",
        "drive.mount('/content/gdrive' , force_remount = True)"
      ],
      "execution_count": 0,
      "outputs": [
        {
          "output_type": "stream",
          "text": [
            "Go to this URL in a browser: https://accounts.google.com/o/oauth2/auth?client_id=947318989803-6bn6qk8qdgf4n4g3pfee6491hc0brc4i.apps.googleusercontent.com&redirect_uri=urn%3Aietf%3Awg%3Aoauth%3A2.0%3Aoob&scope=email%20https%3A%2F%2Fwww.googleapis.com%2Fauth%2Fdocs.test%20https%3A%2F%2Fwww.googleapis.com%2Fauth%2Fdrive%20https%3A%2F%2Fwww.googleapis.com%2Fauth%2Fdrive.photos.readonly%20https%3A%2F%2Fwww.googleapis.com%2Fauth%2Fpeopleapi.readonly&response_type=code\n",
            "\n",
            "Enter your authorization code:\n",
            "··········\n",
            "Mounted at /content/gdrive\n"
          ],
          "name": "stdout"
        }
      ]
    },
    {
      "cell_type": "code",
      "metadata": {
        "id": "7JO_XjaECiaI",
        "colab_type": "code",
        "colab": {}
      },
      "source": [
        "def get_model(model_name, pretrained=True):\n",
        "    return models.__dict__[model_name](pretrained)\n",
        "\n",
        "def to_var(x, volatile=False):\n",
        "    if torch.cuda.is_available():\n",
        "        x = x.cuda()\n",
        "    return Variable(x, volatile=volatile)\n",
        "\n",
        "\n",
        "def imshow(img, text=None):\n",
        "    img_np = img.numpy().transpose((1, 2, 0))\n",
        "    plt.axis(\"off\")\n",
        "    if text:\n",
        "        plt.text(175, 8, text, style='italic', fontweight='bold',\n",
        "                 bbox={'facecolor': 'white', 'alpha': 0.8, 'pad': 10})\n",
        "    plt.imshow(img_np)\n",
        "    plt.show()"
      ],
      "execution_count": 0,
      "outputs": []
    },
    {
      "cell_type": "code",
      "metadata": {
        "id": "psSv4WS0CmqP",
        "colab_type": "code",
        "colab": {}
      },
      "source": [
        "DATA_DIR = '/content/gdrive/My Drive/data_sets/asl/'\n",
        "train_dir = f'{DATA_DIR}train'\n",
        "valid_dir = f'{DATA_DIR}test'\n",
        "\n",
        "sz = 200\n",
        "batch_size = 20\n",
        "embed_size = 29\n",
        "num_epochs = 10\n",
        "\n",
        "cnn_name = 'resnet101'"
      ],
      "execution_count": 0,
      "outputs": []
    },
    {
      "cell_type": "code",
      "metadata": {
        "id": "djHt7riKC3Ct",
        "colab_type": "code",
        "colab": {}
      },
      "source": [
        "tfms = transforms.Compose([\n",
        "    transforms.ToTensor(),\n",
        "    transforms.Normalize([0.485, 0.456, 0.406], [0.229, 0.224, 0.225])\n",
        "])\n",
        "\n",
        "train_ds = datasets.ImageFolder(train_dir , transform = tfms)\n",
        "train_dl = DataLoader(train_ds, batch_size=batch_size, shuffle=True, num_workers=32)\n",
        "\n",
        "valid_ds = datasets.ImageFolder(valid_dir , transform = tfms)\n",
        "valid_dl = DataLoader(train_ds, batch_size=batch_size, shuffle=True, num_workers=32)"
      ],
      "execution_count": 0,
      "outputs": []
    },
    {
      "cell_type": "code",
      "metadata": {
        "id": "i0ppFqPiDffl",
        "colab_type": "code",
        "colab": {}
      },
      "source": [
        "class asl_res(nn.Module):\n",
        "    \n",
        "    def __init__(self, model, embed_size):\n",
        "        super(asl_res, self).__init__()\n",
        "        num_features = model.fc.in_features\n",
        "        model.fc = nn.Sequential(\n",
        "            nn.Linear(num_features, 512),\n",
        "            nn.BatchNorm1d(512),\n",
        "            nn.ReLU(),           \n",
        "            nn.Linear(512, embed_size))\n",
        "        self.model = model\n",
        "        \n",
        "    def forward(self,x):\n",
        "        out = self.model(x)\n",
        "        return out"
      ],
      "execution_count": 0,
      "outputs": []
    },
    {
      "cell_type": "code",
      "metadata": {
        "id": "8qlTfgKzEbrK",
        "colab_type": "code",
        "outputId": "976db33c-ea96-4db7-969f-36f25b200ae6",
        "colab": {
          "base_uri": "https://localhost:8080/",
          "height": 51
        }
      },
      "source": [
        "cnn = get_model(cnn_name)\n",
        "model = asl_res(cnn, embed_size).cuda()"
      ],
      "execution_count": 0,
      "outputs": [
        {
          "output_type": "stream",
          "text": [
            "Downloading: \"https://download.pytorch.org/models/resnet101-5d3b4d8f.pth\" to /root/.cache/torch/checkpoints/resnet101-5d3b4d8f.pth\n",
            "100%|██████████| 178728960/178728960 [00:01<00:00, 116980832.84it/s]\n"
          ],
          "name": "stderr"
        }
      ]
    },
    {
      "cell_type": "code",
      "metadata": {
        "id": "uWj7eftcFOHi",
        "colab_type": "code",
        "outputId": "e8d81fc1-9ba0-4088-b8d0-28b5f92a25a4",
        "colab": {
          "base_uri": "https://localhost:8080/",
          "height": 34
        }
      },
      "source": [
        "len(train_ds) , len(valid_ds)"
      ],
      "execution_count": 0,
      "outputs": [
        {
          "output_type": "execute_result",
          "data": {
            "text/plain": [
              "(14500, 899)"
            ]
          },
          "metadata": {
            "tags": []
          },
          "execution_count": 7
        }
      ]
    },
    {
      "cell_type": "code",
      "metadata": {
        "id": "ZVoA8t8IFStJ",
        "colab_type": "code",
        "colab": {}
      },
      "source": [
        "criterion = nn.CrossEntropyLoss()\n",
        "optimizer = optim.SGD(model.parameters(), lr=0.002, momentum=0.9)"
      ],
      "execution_count": 0,
      "outputs": []
    },
    {
      "cell_type": "code",
      "metadata": {
        "id": "-i4hCgfpHOuR",
        "colab_type": "code",
        "outputId": "dff16eb5-bacf-46fb-c9a1-05b8bdc080fa",
        "colab": {
          "base_uri": "https://localhost:8080/",
          "height": 629
        }
      },
      "source": [
        "num_epochs = 1\n",
        "losses = []\n",
        "for epoch in range(num_epochs):\n",
        "    for i, (inputs, targets) in enumerate(train_dl):\n",
        "        inputs = to_var(inputs)\n",
        "        targets = to_var(targets)\n",
        "        \n",
        "        # forwad pass\n",
        "        optimizer.zero_grad()\n",
        "        outputs = model(inputs)\n",
        "        \n",
        "        # loss\n",
        "        loss = criterion(outputs, targets)\n",
        "        losses += [loss.data.item()]\n",
        "        # backward pass\n",
        "        loss.backward()\n",
        "        \n",
        "        # update parameters\n",
        "        optimizer.step()\n",
        "        \n",
        "        # report\n",
        "        if (i + 1) % 20 == 0:\n",
        "            print('Epoch [%2d/%2d], Step [%3d/%3d], Loss: %.4f'\n",
        "                  % (epoch + 1, num_epochs, i + 1, len(train_ds) /batch_size, loss.data.item()))"
      ],
      "execution_count": 0,
      "outputs": [
        {
          "output_type": "stream",
          "text": [
            "Epoch [ 1/ 1], Step [ 20/725], Loss: 2.7375\n",
            "Epoch [ 1/ 1], Step [ 40/725], Loss: 1.5967\n",
            "Epoch [ 1/ 1], Step [ 60/725], Loss: 1.1158\n",
            "Epoch [ 1/ 1], Step [ 80/725], Loss: 0.6387\n",
            "Epoch [ 1/ 1], Step [100/725], Loss: 0.4357\n",
            "Epoch [ 1/ 1], Step [120/725], Loss: 0.3509\n",
            "Epoch [ 1/ 1], Step [140/725], Loss: 0.2224\n",
            "Epoch [ 1/ 1], Step [160/725], Loss: 0.1919\n",
            "Epoch [ 1/ 1], Step [180/725], Loss: 0.1466\n",
            "Epoch [ 1/ 1], Step [200/725], Loss: 0.1217\n",
            "Epoch [ 1/ 1], Step [220/725], Loss: 0.1178\n",
            "Epoch [ 1/ 1], Step [240/725], Loss: 0.1184\n",
            "Epoch [ 1/ 1], Step [260/725], Loss: 0.0829\n",
            "Epoch [ 1/ 1], Step [280/725], Loss: 0.1246\n",
            "Epoch [ 1/ 1], Step [300/725], Loss: 0.0751\n",
            "Epoch [ 1/ 1], Step [320/725], Loss: 0.0594\n",
            "Epoch [ 1/ 1], Step [340/725], Loss: 0.0702\n",
            "Epoch [ 1/ 1], Step [360/725], Loss: 0.0456\n",
            "Epoch [ 1/ 1], Step [380/725], Loss: 0.0576\n",
            "Epoch [ 1/ 1], Step [400/725], Loss: 0.0505\n",
            "Epoch [ 1/ 1], Step [420/725], Loss: 0.0562\n",
            "Epoch [ 1/ 1], Step [440/725], Loss: 0.0526\n",
            "Epoch [ 1/ 1], Step [460/725], Loss: 0.0674\n",
            "Epoch [ 1/ 1], Step [480/725], Loss: 0.0466\n",
            "Epoch [ 1/ 1], Step [500/725], Loss: 0.0316\n",
            "Epoch [ 1/ 1], Step [520/725], Loss: 0.0342\n",
            "Epoch [ 1/ 1], Step [540/725], Loss: 0.0435\n",
            "Epoch [ 1/ 1], Step [560/725], Loss: 0.0266\n",
            "Epoch [ 1/ 1], Step [580/725], Loss: 0.0258\n",
            "Epoch [ 1/ 1], Step [600/725], Loss: 0.0621\n",
            "Epoch [ 1/ 1], Step [620/725], Loss: 0.0407\n",
            "Epoch [ 1/ 1], Step [640/725], Loss: 0.0232\n",
            "Epoch [ 1/ 1], Step [660/725], Loss: 0.0222\n",
            "Epoch [ 1/ 1], Step [680/725], Loss: 0.0192\n",
            "Epoch [ 1/ 1], Step [700/725], Loss: 0.0231\n",
            "Epoch [ 1/ 1], Step [720/725], Loss: 0.0218\n"
          ],
          "name": "stdout"
        }
      ]
    },
    {
      "cell_type": "code",
      "metadata": {
        "id": "XKJJ-K3-Hwsw",
        "colab_type": "code",
        "outputId": "6b1f9d69-7422-4cc1-d227-574c863ad099",
        "colab": {
          "base_uri": "https://localhost:8080/",
          "height": 312
        }
      },
      "source": [
        "plt.figure(figsize=(12, 4))\n",
        "plt.plot(losses)\n",
        "plt.xlabel('Iteration')\n",
        "plt.ylabel('loss')\n",
        "plt.title('Cross Entropy Loss')"
      ],
      "execution_count": 0,
      "outputs": [
        {
          "output_type": "execute_result",
          "data": {
            "text/plain": [
              "Text(0.5, 1.0, 'Cross Entropy Loss')"
            ]
          },
          "metadata": {
            "tags": []
          },
          "execution_count": 10
        },
        {
          "output_type": "display_data",
          "data": {
            "image/png": "[encoded data removed]",
            "text/plain": [
              "<Figure size 864x288 with 1 Axes>"
            ]
          },
          "metadata": {
            "tags": []
          }
        }
      ]
    },
    {
      "cell_type": "code",
      "metadata": {
        "id": "32vMsQ7IQ_Di",
        "colab_type": "code",
        "colab": {}
      },
      "source": [
        "def evaluate_model(model, dataloader):\n",
        "    model.eval()  # for batch normalization layers\n",
        "    corrects = 0\n",
        "    for inputs, targets in dataloader:\n",
        "        inputs, targets = to_var(inputs, True), to_var(targets, True)\n",
        "        outputs = model(inputs)\n",
        "        _, preds = torch.max(outputs.data, 1)\n",
        "        corrects += (preds == targets.data).sum()\n",
        "    \n",
        "    print('accuracy: {:.2f}'.format(100. * corrects / len(dataloader.dataset)))"
      ],
      "execution_count": 0,
      "outputs": []
    },
    {
      "cell_type": "code",
      "metadata": {
        "id": "YuUuX5VjRGJ9",
        "colab_type": "code",
        "outputId": "c877ad71-396c-464e-eaea-4c6ffb5ddbc7",
        "colab": {
          "base_uri": "https://localhost:8080/",
          "height": 88
        }
      },
      "source": [
        "evaluate_model(model, valid_dl)"
      ],
      "execution_count": 0,
      "outputs": [
        {
          "output_type": "stream",
          "text": [
            "/usr/local/lib/python3.6/dist-packages/ipykernel_launcher.py:7: UserWarning: volatile was removed and now has no effect. Use `with torch.no_grad():` instead.\n",
            "  import sys\n"
          ],
          "name": "stderr"
        },
        {
          "output_type": "stream",
          "text": [
            "accuracy: 100.00\n"
          ],
          "name": "stdout"
        }
      ]
    },
    {
      "cell_type": "code",
      "metadata": {
        "id": "Kiu2VuBbRJD1",
        "colab_type": "code",
        "colab": {}
      },
      "source": [
        "def visualize_model(model, dataloader, num_images=6):\n",
        "    \"\"\" Visulaize the prediction of the model on a bunch of random data.\n",
        "    \"\"\"\n",
        "    model.train(False)\n",
        "    \n",
        "    images_so_far = 0\n",
        "    fig = plt.figure(figsize=(10., 8.))\n",
        "\n",
        "    for i, (inputs, labels) in enumerate(dataloader):\n",
        "        inputs, labels = to_var(inputs, volatile=True), to_var(labels, volatile=True)\n",
        "\n",
        "        outputs = model(inputs)\n",
        "        _, preds = torch.max(outputs.data, 1)\n",
        "\n",
        "        for j in range(inputs.size()[0]):\n",
        "            images_so_far += 1\n",
        "            ax = plt.subplot(num_images//2, 2, images_so_far)\n",
        "            ax.axis('off')\n",
        "            ax.set_title('predicted: {}'.format(dataloader.dataset.classes[preds[j]]))\n",
        "            imshow(inputs.cpu().data[j])\n",
        "\n",
        "            if images_so_far == num_images:\n",
        "                return"
      ],
      "execution_count": 0,
      "outputs": []
    },
    {
      "cell_type": "code",
      "metadata": {
        "id": "ZSqWSZMEUQUi",
        "colab_type": "code",
        "outputId": "f361918f-76c1-4349-d8c1-da670210cbc4",
        "colab": {
          "base_uri": "https://localhost:8080/",
          "height": 903
        }
      },
      "source": [
        "visualize_model(model, valid_dl)"
      ],
      "execution_count": 0,
      "outputs": [
        {
          "output_type": "stream",
          "text": [
            "/usr/local/lib/python3.6/dist-packages/ipykernel_launcher.py:7: UserWarning: volatile was removed and now has no effect. Use `with torch.no_grad():` instead.\n",
            "  import sys\n",
            "Clipping input data to the valid range for imshow with RGB data ([0..1] for floats or [0..255] for integers).\n"
          ],
          "name": "stderr"
        },
        {
          "output_type": "display_data",
          "data": {
            "image/png": "[encoded data removed]",
            "text/plain": [
              "<Figure size 720x576 with 1 Axes>"
            ]
          },
          "metadata": {
            "tags": []
          }
        },
        {
          "output_type": "stream",
          "text": [
            "Clipping input data to the valid range for imshow with RGB data ([0..1] for floats or [0..255] for integers).\n"
          ],
          "name": "stderr"
        },
        {
          "output_type": "display_data",
          "data": {
            "image/png": "[encoded data removed]",
            "text/plain": [
              "<Figure size 432x288 with 1 Axes>"
            ]
          },
          "metadata": {
            "tags": []
          }
        },
        {
          "output_type": "stream",
          "text": [
            "Clipping input data to the valid range for imshow with RGB data ([0..1] for floats or [0..255] for integers).\n"
          ],
          "name": "stderr"
        },
        {
          "output_type": "display_data",
          "data": {
            "image/png": "[encoded data removed]",
            "text/plain": [
              "<Figure size 432x288 with 1 Axes>"
            ]
          },
          "metadata": {
            "tags": []
          }
        },
        {
          "output_type": "stream",
          "text": [
            "Clipping input data to the valid range for imshow with RGB data ([0..1] for floats or [0..255] for integers).\n"
          ],
          "name": "stderr"
        },
        {
          "output_type": "display_data",
          "data": {
            "image/png": "[encoded data removed]",
            "text/plain": [
              "<Figure size 432x288 with 1 Axes>"
            ]
          },
          "metadata": {
            "tags": []
          }
        },
        {
          "output_type": "stream",
          "text": [
            "Clipping input data to the valid range for imshow with RGB data ([0..1] for floats or [0..255] for integers).\n"
          ],
          "name": "stderr"
        },
        {
          "output_type": "display_data",
          "data": {
            "image/png": "[encoded data removed]",
            "text/plain": [
              "<Figure size 432x288 with 1 Axes>"
            ]
          },
          "metadata": {
            "tags": []
          }
        },
        {
          "output_type": "stream",
          "text": [
            "Clipping input data to the valid range for imshow with RGB data ([0..1] for floats or [0..255] for integers).\n"
          ],
          "name": "stderr"
        },
        {
          "output_type": "display_data",
          "data": {
            "image/png": "[encoded data removed]",
            "text/plain": [
              "<Figure size 432x288 with 1 Axes>"
            ]
          },
          "metadata": {
            "tags": []
          }
        }
      ]
    },
    {
      "cell_type": "code",
      "metadata": {
        "id": "JEyLP7pEUVRO",
        "colab_type": "code",
        "colab": {}
      },
      "source": [
        ""
      ],
      "execution_count": 0,
      "outputs": []
    }
  ]
}